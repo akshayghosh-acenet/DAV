{
 "cells": [
  {
   "cell_type": "markdown",
   "id": "0c5b5399-f189-4f4f-91ba-2e8ef6389dab",
   "metadata": {},
   "source": [
    "# Data Analytics and Visualization (part 3)\n",
    "\n",
    "## Matplotlib\n",
    "Matplotlib is a powerful plotting library used for creating static, interactive, and animated visualizations in Python. It provides a wide array of functions and tools to generate graphs and plots, making it one of the most popular data visualization tools in the data science and analytics community. \n",
    "\n",
    "Let's start by importing our libraries:"
   ]
  },
  {
   "cell_type": "code",
   "execution_count": 21,
   "id": "05fdda56-ce82-4f07-8d3a-183fa447f6fe",
   "metadata": {
    "tags": []
   },
   "outputs": [],
   "source": [
    "#Import needed libraries\n",
    "\n",
    "#Your code goes here"
   ]
  },
  {
   "cell_type": "markdown",
   "id": "c45d7faf-7925-48d9-af55-2674ef5fae51",
   "metadata": {},
   "source": [
    "### Line Plot\n",
    "Line plots are used to visualize trends and changes in data over a continuous range, or time. We use line plots when we have data that can be represented as a series of points connected by lines, such as time series data or data with a natural ordering.\n",
    "\n",
    "Let's create a simple line plot using Matplotlib to visualize a set of data points:"
   ]
  },
  {
   "cell_type": "code",
   "execution_count": 20,
   "id": "c7923efa-7573-4c70-a1d8-c153f903e1f7",
   "metadata": {
    "tags": []
   },
   "outputs": [],
   "source": [
    "# Sample data\n",
    "#Your code goes here\n",
    "\n",
    "# Create a basic line plot\n",
    "#Your code goes here\n",
    "\n",
    "# Add labels and a title\n",
    "#Your code goes here\n",
    "\n",
    "# Show the plot\n",
    "#Your code goes here\n"
   ]
  },
  {
   "cell_type": "markdown",
   "id": "8a3ff2c1-8fcd-468d-9ac2-6a2c53ebb228",
   "metadata": {},
   "source": [
    "The line plot suggests a fluctuating trend in the data. There’s an initial increase in y values, followed by a sudden drop, then a slight recovery towards the end."
   ]
  },
  {
   "cell_type": "markdown",
   "id": "81cf0a4e-6aaa-485d-9582-1f2a30d3f6c3",
   "metadata": {},
   "source": [
    "#### Code Explanation\n",
    "- **x** and **y** represent the sample data points that we want to plot.\n",
    "- **plt.plot(x, y)**: This line creates a basic line plot using the plot function. It takes x and y as arguments to plot the data points.\n",
    "- **plt.xlabel('X-axis')** and **plt.ylabel('Y-axis')**: These lines label the X and Y axes, respectively, providing context for the plot.\n",
    "- **plt.title('Line Plot Example')**: This line adds a title to the plot.\n",
    "- **plt.show()**: This function displays the plot on the screen."
   ]
  },
  {
   "cell_type": "markdown",
   "id": "14c73dd4-af46-47d9-b7c4-48683612dec2",
   "metadata": {},
   "source": [
    "#### Exercise 1\n",
    "You are given the monthly average temperatures (in degrees Celsius) in a city for a year. Create a line plot to visualize the temperature trend over the year. The data is provided in the form of two lists: months (containing the month names) and temperatures (containing the corresponding average temperatures).\n",
    "\n",
    "months = ['Jan', 'Feb', 'Mar', 'Apr', 'May', 'Jun', 'Jul', 'Aug', 'Sep', 'Oct', 'Nov', 'Dec']\n",
    "temperatures = [10, 11, 15, 18, 22, 25, 28, 28, 25, 20, 15, 11]\n",
    "\n",
    "- Create a line plot that shows the temperature trend over the year.\n",
    "- Add appropriate labels to the X and Y axes.\n",
    "- Add a title to the plot to indicate what it represents.\n"
   ]
  },
  {
   "cell_type": "markdown",
   "id": "fd3e1461-cd70-4764-9a23-3aed56d927b4",
   "metadata": {},
   "source": [
    "### Scatter Plot\n",
    "Scatter plots are used to visualize individual data points as dots on a two-dimensional plane. They are valuable for identifying patterns, trends, and relationships between two variables. \n",
    "\n",
    "We will create a scatter plot using Matplotlib to visualize individual data points.\n"
   ]
  },
  {
   "cell_type": "code",
   "execution_count": 22,
   "id": "64e6eb1d-1251-482d-96b8-469b1e88ff3d",
   "metadata": {
    "tags": []
   },
   "outputs": [],
   "source": [
    "# Sample data\n",
    "#Your code goes here\n",
    "\n",
    "# Create a scatter plot\n",
    "#Your code goes here\n",
    "\n",
    "# Add labels and a legend\n",
    "#Your code goes here\n",
    "\n",
    "# Show the plot\n",
    "#Your code goes here"
   ]
  },
  {
   "cell_type": "markdown",
   "id": "0e88df04-932c-42de-8e5f-c2b93e2b44ff",
   "metadata": {},
   "source": [
    "The scatter plot shows no clear trend or pattern, with data points scattered across the plot. An outlier at (3, 5) deviates significantly from the general grouping, indicating unique or unusual data. Scatter plots provide precise information about individual data points, but without a clear trend, conclusions are difficult."
   ]
  },
  {
   "cell_type": "markdown",
   "id": "429b204e-90e6-4bbe-ac22-9bf33ced21ef",
   "metadata": {},
   "source": [
    "#### Code Explanation\n",
    "- **x** and **y** represent the sample data points.\n",
    "- **plt.scatter(x, y, color='red', marker='o', label='Data Points')**: This line creates a scatter plot. We specify the color, marker style (in this case, a red circle), and label for the data points.\n",
    "- **plt.xlabel('X-axis')** and **plt.ylabel ('Y-axis')**: These lines label the X and Y axes, providing context for the plot.\n",
    "- **plt.legend()**: This line adds a legend to the plot, using the label provided in the scatter function.\n",
    "- **plt.show()**: This function displays the plot."
   ]
  },
  {
   "cell_type": "markdown",
   "id": "113e7747-bb3d-4693-bffd-d4b6da3ea4d3",
   "metadata": {
    "tags": []
   },
   "source": [
    "### Bar Chart\n",
    "Bar charts represent categorical data with discrete bars, making it easy to compare values across different categories. We use bar charts when we want to compare data across categories, show rankings, or display frequencies or counts for discrete items.\n",
    "\n",
    "We will create a bar chart using Matplotlib to visualize categorical data and compare values."
   ]
  },
  {
   "cell_type": "code",
   "execution_count": 23,
   "id": "a2a79bd4-0f16-4545-bc50-4ee92e21c065",
   "metadata": {
    "tags": []
   },
   "outputs": [],
   "source": [
    "# Sample data\n",
    "#Your code goes here\n",
    "\n",
    "# Create a bar chart\n",
    "#Your code goes here\n",
    "\n",
    "# Add labels and a title\n",
    "#Your code goes here\n",
    "\n",
    "# Show the plot\n",
    "#Your code goes here"
   ]
  },
  {
   "cell_type": "markdown",
   "id": "fb371fbc-b45b-47ca-b344-c8ebb127800f",
   "metadata": {},
   "source": [
    "The bar chart allows for a straightforward comparison of values between different categories. We can easily see that ‘Category B’ has the highest value (40), followed by ‘Category C’ (30) and ‘Category A’ (25). Each bar represents a distinct category, making it easy to visually assess the relative magnitudes of each category. The vertical height of each bar directly corresponds to the value it represents. This provides a clear and intuitive representation of the data."
   ]
  },
  {
   "cell_type": "markdown",
   "id": "3dd24028-f22e-4081-90ad-b343714d091b",
   "metadata": {},
   "source": [
    "#### Code Explanation\n",
    "- **categories** and **values** represent the categorical data and their corresponding values.\n",
    "- **plt.bar(categories, values, color='skyblue')**: This line creates a bar chart. We specify the categories, values, and color for the bars.\n",
    "- **plt.xlabel('Categories')** and **plt.ylabel('Values')**: These lines label the X and Y axes, providing context for the plot.\n",
    "- **plt.title('Bar Chart Example')**: This line adds a title to the plot.\n",
    "- **plt.show()**: This function displays the plot"
   ]
  },
  {
   "cell_type": "markdown",
   "id": "5e1377bf-4b19-4cf4-9419-48059d893d45",
   "metadata": {},
   "source": [
    "### Histogram\n",
    "Histograms are used to visualize the distribution of a single continuous variable. They divide the data into bins or intervals and show the frequency or count of data points in each bin. We use histograms when we want to understand the shape of a dataset’s distribution, identify central tendencies (mean, median, mode), and observe data skewness or the presence of multiple peaks.\n",
    "\n",
    "We will create a histogram using Matplotlib to visualize the distribution of numerical data."
   ]
  },
  {
   "cell_type": "code",
   "execution_count": 24,
   "id": "997a1265-c906-4730-9068-528940720a61",
   "metadata": {
    "tags": []
   },
   "outputs": [],
   "source": [
    "# Generate random data\n",
    "#Your code goes here\n",
    "\n",
    "# Create a histogram\n",
    "#Your code goes here\n",
    "\n",
    "# Add labels and a title\n",
    "#Your code goes here\n",
    "\n",
    "# Show the plot\n",
    "#Your code goes here"
   ]
  },
  {
   "cell_type": "markdown",
   "id": "c492fb63-d939-4f09-8a5b-ca8ec8f1d36e",
   "metadata": {},
   "source": [
    "The histogram provides insights into the shape of the data distribution. In this case, it appears to be approximately normally distributed, centered around zero. Each bin on the x-axis represents a range of values, and the height of the bars indicates how many data points fall within that range. For example, the tallest bar around zero indicates a higher frequency of values in that range. The spread of the bars shows the variability of the data. Wider distributions indicate more variability, while narrower distributions suggest less variation.\n",
    "\n",
    "Also remember, usually high bars or isolated bars far from the main cluster may indicate outliers or anomalies in the data. The center of the distribution (often represented by the highest point) gives an indication of the central tendency of the data."
   ]
  },
  {
   "cell_type": "markdown",
   "id": "8150e329-96ca-496a-97f5-23a7c53775c9",
   "metadata": {},
   "source": [
    "#### Code Explanation\n",
    "- data is generated as random data using NumPy’s **randn** function.\n",
    "- **plt.hist(data, bins=20, color='green', alpha=0.6)**: This line creates a histogram. We specify the data, the number of bins, the color of the bars, and their transparency (alpha).\n",
    "- **plt.xlabel('Values')** and **plt.ylabel('Frequency')**: These lines label the X and Y axes, providing context for the plot.\n",
    "- **plt.title('Histogram Example')**: This line adds a title to the plot.\n",
    "- **plt.show()**: This function displays the plot.\n"
   ]
  },
  {
   "cell_type": "markdown",
   "id": "e07d605d-87b4-49c9-b7c7-8aa5c7bd86e3",
   "metadata": {},
   "source": [
    "### Pie Chart\n",
    "Pie charts show the composition of a whole by dividing it into segments, typically representing proportions or percentages. We use pie charts when we want to visualize how individual components contribute to a whole, but be cautious with complex datasets or too many segments, as they can be challenging to interpret.\n",
    "\n",
    "We will create a pie chart using Matplotlib to represent the distribution of categories within a dataset.\n"
   ]
  },
  {
   "cell_type": "code",
   "execution_count": 25,
   "id": "a4ead54d-d220-4141-b18e-59a2b81ebac7",
   "metadata": {
    "tags": []
   },
   "outputs": [],
   "source": [
    "# Sample data\n",
    "#Your code goes here\n",
    "\n",
    "# Create a pie chart\n",
    "#Your code goes here\n",
    "\n",
    "# Add a title\n",
    "#Your code goes here\n",
    "\n",
    "# Show the plot\n",
    "#Your code goes here"
   ]
  },
  {
   "cell_type": "markdown",
   "id": "689c37a5-3d3f-4d55-956d-57e54ac27b84",
   "metadata": {},
   "source": [
    "The sizes of the wedges accurately represent the relative proportions of the categories. For example, ‘Category D’ (35%) has the largest segment, indicating it is the largest category.\n",
    "\n",
    "The pie chart allows for an easy visual comparison of the different categories. Viewers can quickly see which category is the largest and how the others compare."
   ]
  },
  {
   "cell_type": "markdown",
   "id": "afc4a0e3-37d1-471f-aa56-f819a2e7b488",
   "metadata": {},
   "source": [
    "#### Code Explanation\n",
    "- **categories** and **sizes** represent the categories and their respective sizes.\n",
    "- **plt.pie(sizes, labels=categories, autopct='%1.1f%%', startangle=90, colors=['gold', 'lightcoral', 'lightskyblue', 'lightgreen'])**: This line creates a pie chart. We specify the sizes, labels, percentage format, starting angle, and colors for the pie slices.\n",
    "- **plt.title('Pie Chart Example')**: This line adds a title to the plot.\n",
    "- **plt.show()**: This function displays the pie chart."
   ]
  },
  {
   "cell_type": "markdown",
   "id": "b8e12de6-381e-4a58-b48d-76effbdec79f",
   "metadata": {
    "tags": []
   },
   "source": [
    "#### Exercise 2\n",
    "You have survey data that shows the distribution of favorite pizza toppings among a group of 100 people. Create a pie chart to visualize the distribution of pizza topping preferences. The data is provided in the form of a dictionary where each topping is a key, and the corresponding value is the number of people who chose that topping as their favorite.\n",
    "\n",
    "pizza_toppings = {\n",
    "    'Pepperoni': 30,\n",
    "    'Mushroom': 20,\n",
    "    'Margherita': 15,\n",
    "    'Vegetarian': 10,\n",
    "    'Supreme': 10,\n",
    "    'Hawaiian': 5,\n",
    "    'Other': 10\n",
    "}\n",
    "\n",
    "- Create a pie chart that displays the distribution of favorite pizza toppings.\n",
    "- Label each slice of the pie chart with the topping name and the percentage of people who chose it as their favorite.\n",
    "- Highlight the slice with the most popular topping using the explode parameter of Matplotlib.\n",
    "- Add a title to the pie chart to describe its purpose.\n"
   ]
  },
  {
   "cell_type": "markdown",
   "id": "5a0fdd88-7c5b-44ba-a6e1-9782e1c25a89",
   "metadata": {},
   "source": [
    "### Subplots\n",
    "Subplots in data visualization divide a figure into smaller plots, displaying various data representations in a shared space. They aid in comparisons, correlations, and juxtaposition of datasets, highlighting distinct data parts and dimensions, and improving understanding and depth of data findings.\n",
    "\n",
    "Let's walk through creating a figure with multiple subplots, each showcasing a different type of plot explained above. "
   ]
  },
  {
   "cell_type": "code",
   "execution_count": 26,
   "id": "47611f3a-25b2-4ebc-952f-5b9296f9c6dd",
   "metadata": {
    "tags": []
   },
   "outputs": [],
   "source": [
    "# Creating data for plots\n",
    "#Your code goes here\n",
    "\n",
    "# Creating figure and subplots\n",
    "#Your code goes here\n",
    "\n",
    "# Line plot\n",
    "#Your code goes here\n",
    "\n",
    "# Scatter plot\n",
    "#Your code goes here\n",
    "\n",
    "# Bar chart\n",
    "#Your code goes here\n",
    "\n",
    "# Histogram\n",
    "#Your code goes here\n",
    "\n",
    "# Pie chart\n",
    "#Your code goes here\n",
    "\n",
    "# Removing empty subplot\n",
    "#Your code goes here\n",
    "\n",
    "# Adjusting layout\n",
    "#Your code goes here\n",
    "\n",
    "# Showing the plots\n",
    "#Your code goes here"
   ]
  },
  {
   "cell_type": "markdown",
   "id": "6ab80591-d364-4a80-af0b-e496bdb2ea57",
   "metadata": {},
   "source": [
    "#### Code Explanation\n",
    "- **fig, axs = plt.subplots(2, 3, figsize=(12, 8))** generates a figure with a 2x3 grid of subplots and sets its size to 12x8 inches.\n",
    "- **Line Plot:**\n",
    "    - **axs[0, 0].plot(x, y):** Plots a line graph using x as the x-axis values and y as the y-axis values.\n",
    "    - **axs[0, 0].set_title('Line Plot'):** Sets the title for the line plot subplot.\n",
    "- **Scatter Plot:**\n",
    "    - **scatter_y = [8, 6, 12, 7, 10]**: Defines a list of y-axis values for a scatter plot.\n",
    "    - **axs[0, 1].scatter(x, scatter_y)**: Creates a scatter plot using x values against scatter_y.\n",
    "- **Bar Chart:**\n",
    "    - **categories = ['A', 'B', 'C', 'D']**: Represents categories for the bar chart.\n",
    "    - **values = [7, 3, 9, 5]**: Defines values corresponding to each category.\n",
    "    - **axs[0, 2].bar(categories, values)**: Generates a bar chart with categories on the x-axis and values on the y-axis.\n",
    "- Histogram:\n",
    "    - **hist_data**: Represents data for the histogram.\n",
    "    - **axs[1, 0].hist(hist_data, bins=5)**: Creates a histogram with hist_data and 5 bins.\n",
    "- Pie Chart:\n",
    "    - **sizes**: Contains sizes representing portions of a pie chart.\n",
    "    - **labels**: Represents labels for each portion in the pie chart.\n",
    "    - **axs[1, 1].pie(sizes, labels=labels, autopct='%1.1f%%')**: Generates a pie chart with specified sizes and labels, displaying percentages.\n",
    "    - **axs[1, 1].set_title('Pie Chart')**: Sets the title for the pie chart subplot.\n",
    "- **fig.delaxes(axs[1, 2])** removes an empty subplot at position (1, 2).\n",
    "- **plt.tight_layout()** adjusts the layout of subplots to avoid overlapping.\n",
    "- **plt.show()** displays the generated subplots containing the line plot, scatter plot, bar chart, histogram, and pie chart."
   ]
  },
  {
   "cell_type": "markdown",
   "id": "66387e45-7351-4c0e-887d-c28fd8b1d385",
   "metadata": {},
   "source": [
    "## Seaborn\n",
    "Seaborn is a popular Python data visualization library that is often used in conjunction with Matplotlib. While Matplotlib is a powerful and flexible library for creating a wide range of basic and advanced plots, Seaborn is designed specifically for statistical data visualization.\n",
    "\n",
    "Let's start this section by importing the seaborn library:\n"
   ]
  },
  {
   "cell_type": "code",
   "execution_count": 27,
   "id": "f499262b-d7e3-470a-ac11-e5108666ace7",
   "metadata": {
    "tags": []
   },
   "outputs": [],
   "source": [
    "#Import seaborn library\n",
    "#Your code goes here"
   ]
  },
  {
   "cell_type": "markdown",
   "id": "b99e4b96-6a09-4f03-9824-055a5c863b6e",
   "metadata": {},
   "source": [
    "### Box Plot\n",
    "Box plots provide a summary of the distribution and spread of data, helping identify outliers and understand the data’s central tendency. We use box plots when we want to compare the distribution of data across different categories or groups, especially when dealing with skewed or non-normal data.\n"
   ]
  },
  {
   "cell_type": "markdown",
   "id": "0daa4b10-5c2c-4b1a-8a37-0702b36bae9f",
   "metadata": {},
   "source": [
    "Let's create a box plot using Seaborn to visualize the distribution and spread of a dataset:"
   ]
  },
  {
   "cell_type": "code",
   "execution_count": 28,
   "id": "e38057a8-6059-4441-841f-02b504a08e9b",
   "metadata": {
    "tags": []
   },
   "outputs": [],
   "source": [
    "# Sample data\n",
    "#Your code goes here\n",
    "\n",
    "# Create a box plot\n",
    "#Your code goes here\n",
    "\n",
    "# Add a title\n",
    "#Your code goes here\n",
    "\n",
    "# Show the plot\n",
    "#Your code goes here\n"
   ]
  },
  {
   "cell_type": "markdown",
   "id": "49c43ef9-89d4-4adc-8760-0f8fe1774467",
   "metadata": {},
   "source": [
    "The box plot shows the distribution of total bills for each day, allowing comparison of central tendency, spread, and potential outliers. The median line within the box indicates central tendency, while the box size and whisker length indicate variability. Outliers outside the whiskers indicate unusually large total bills, such as 'Thur' with high outliers.\n"
   ]
  },
  {
   "cell_type": "markdown",
   "id": "a2ff2d8c-38ab-4e0c-86fc-09725533593b",
   "metadata": {},
   "source": [
    "#### Code Explanation\n",
    "- We load a sample dataset (the Tips dataset in this case).\n",
    "- **sns.boxplot(x=\"day\", y=\"total_bill\", data=data, palette=\"husl\")**: This line creates a box plot, displaying the distribution of total_bill for each day. The palette argument specifies the color palette.\n",
    "- **plt.title('Seaborn Box Plot Example')**: This line adds a title to the plot.\n",
    "- **plt.show()**: This function displays the box plot.\n"
   ]
  },
  {
   "cell_type": "markdown",
   "id": "3e252a78-e24f-4b4c-8eef-09cdf73f5f62",
   "metadata": {},
   "source": [
    "### Heatmap\n",
    "Heatmaps are used to visualize relationships and patterns in a matrix by color-coding values. We use heatmaps to display correlation matrices, visualize hierarchies, or explore patterns in large datasets where it’s important to see relationships between variables. Each cell in the heatmap is colored based on the value it represents. Darker colors indicate higher values, while lighter colors indicate lower values.\n",
    "\n",
    "We will create a heatmap using Seaborn to visualize a correlation matrix."
   ]
  },
  {
   "cell_type": "code",
   "execution_count": 29,
   "id": "a641df4b-555f-4c92-bcbb-f17311f27ef1",
   "metadata": {
    "tags": []
   },
   "outputs": [],
   "source": [
    "# Sample data: correlation matrix\n",
    "#Your code goes here\n",
    "\n",
    "# Create a heatmap\n",
    "#Your code goes here\n",
    "\n",
    "# Add a title\n",
    "#Your code goes here\n",
    "\n",
    "# Show the plot\n",
    "#Your code goes here"
   ]
  },
  {
   "cell_type": "markdown",
   "id": "6be07169-06ad-4db2-b9db-34afda2f1fe6",
   "metadata": {},
   "source": [
    "The heatmap shows seasonal trends in passenger numbers, such as an increase in summer months. Over time, patterns and changes are observed, with darker cells indicating higher passenger counts and lighter cells indicating lower counts. The darkest cell corresponds to July 1960, indicating the highest passenger count, while the lightest cells indicate January and February of 1949, indicating lower passenger numbers."
   ]
  },
  {
   "cell_type": "markdown",
   "id": "aab12a95-96b6-4540-aca2-b8ff2c0a702c",
   "metadata": {},
   "source": [
    "#### Code Explanation\n",
    "- We load a sample dataset (the Flights dataset in this case) and create a correlation matrix using **pivot_table()**.\n",
    "- **sns.heatmap(corr_matrix, annot=True, cmap=\"coolwarm\")**: This line creates a heatmap that visualizes the correlation matrix. The annot argument adds numerical annotations to the cells, and the cmap argument specifies the color map.\n",
    "- **plt.title('Seaborn Heatmap Example')**: This line adds a title to the plot.\n",
    "- **plt.show()**: This function displays the heatmap."
   ]
  },
  {
   "cell_type": "markdown",
   "id": "41c88f19-2512-4ae9-a9df-61882991334c",
   "metadata": {},
   "source": [
    "### Scatter Plot with Regression Line"
   ]
  },
  {
   "cell_type": "code",
   "execution_count": 30,
   "id": "f43f3758-cb89-4f1f-ab2d-d307bf3c5af9",
   "metadata": {
    "tags": []
   },
   "outputs": [],
   "source": [
    "# Sample data\n",
    "#Your code goes here\n",
    "\n",
    "# Create a scatter plot with a regression line\n",
    "#Your code goes here\n",
    "\n",
    "# Add labels and a title\n",
    "#Your code goes here\n",
    "\n",
    "# Show the plot\n",
    "#Your code goes here"
   ]
  },
  {
   "cell_type": "markdown",
   "id": "4da1656b-151f-4824-baea-a3a6dd0bf064",
   "metadata": {},
   "source": [
    "Seaborn's regplot function creates a scatter plot with a regression line, allowing for predictions about y based on x. The accuracy of these predictions depends on the strength of the linear relationship. The data points' proximity to the regression line indicates the strength of the relationship, while tighter clustering around the line suggests a stronger correlation. Seaborn automatically calculates and displays the regression line with confidence intervals."
   ]
  },
  {
   "cell_type": "markdown",
   "id": "fd078c45-4982-4eed-8e09-570364c27a88",
   "metadata": {},
   "source": [
    "## Plot and Save\n",
    "Saving a figure during visualization is crucial to preserve and share the insights gained from the data. It ensures that the visual representation is accessible for future reference, analysis, and communication with others.\n",
    "\n",
    "Here’s an example of how to create a simple line plot using Matplotlib and save it to an image file:\n"
   ]
  },
  {
   "cell_type": "code",
   "execution_count": 31,
   "id": "f4e6f574-b2dc-4117-9faa-22edf7373ee3",
   "metadata": {
    "tags": []
   },
   "outputs": [],
   "source": [
    "# Sample data\n",
    "#Your code goes here\n",
    "\n",
    "# Create a line plot\n",
    "#Your code goes here\n",
    "\n",
    "# Add labels and a title\n",
    "#Your code goes here\n",
    "\n",
    "# Save the plot to an image file (e.g., PNG)\n",
    "#Your code goes here\n",
    "\n",
    "# Show the plot (optional)\n",
    "#Your code goes here"
   ]
  },
  {
   "cell_type": "markdown",
   "id": "1372d976-1baf-4b60-a556-94e9f03dea49",
   "metadata": {
    "jp-MarkdownHeadingCollapsed": true,
    "tags": []
   },
   "source": [
    "The savefig function in Matplotlib is used to save a Matplotlib figure (plot) as an image file in various formats, such as PNG, JPEG, PDF, SVG, and more. It allows you to customize the output file format, resolution, and other parameters. Here are some key points about the savefig function:"
   ]
  },
  {
   "cell_type": "code",
   "execution_count": 32,
   "id": "210ac8d3-a7be-4fca-8d38-af461422dcdf",
   "metadata": {
    "tags": []
   },
   "outputs": [],
   "source": [
    "# Save the plot as a PNG image with higher resolution and a white background\n",
    "#Your code goes here"
   ]
  },
  {
   "cell_type": "markdown",
   "id": "a7ddb9f2-8d52-44af-8196-e90077aa87f1",
   "metadata": {},
   "source": [
    "#### Exercise 3\n",
    "You have collected data on the distribution of favorite movie genres among a group of 200 people. The data is provided in the form of a dictionary where each genre is a key, and the corresponding value is the number of people who prefer that genre. Create a data visualization to represent this distribution, and save it to a file for sharing.\n",
    "\n",
    "movie_genres = {\n",
    "    'Action': 45,\n",
    "    'Comedy': 35,\n",
    "    'Drama': 30,\n",
    "    'Adventure': 25,\n",
    "    'Sci-Fi': 20,\n",
    "    'Romance': 15,\n",
    "    'Horror': 10\n",
    "}\n",
    "\n",
    "- Create an appropriate data visualization using ‘seaborn’ to represent the distribution of favorite movie genres.\n",
    "- Save the visualization to an image file (choose an appropriate file format) with a descriptive filename.\n",
    "- Include labels, titles, or any other necessary annotations to make the visualization informative.\n"
   ]
  },
  {
   "cell_type": "markdown",
   "id": "c2a8e558-5b40-4c38-a9b1-94a7ab24fd29",
   "metadata": {},
   "source": [
    "## Exploratory Data Analysis"
   ]
  },
  {
   "cell_type": "markdown",
   "id": "c9207d82-d533-4317-ac1b-7dd85f222df3",
   "metadata": {},
   "source": [
    "Exploratory Data Analysis (EDA) is a crucial step in data analysis, breaking down complex data into simpler parts. It involves univariate and bivariate analysis, helping to uncover hidden patterns and connections. EDA aids in understanding dataset characteristics and guiding further analysis and decision-making."
   ]
  },
  {
   "cell_type": "markdown",
   "id": "aa505a00-f0fa-40d9-a104-83ca9b67dc5c",
   "metadata": {},
   "source": [
    "### Univariate Analysis"
   ]
  },
  {
   "cell_type": "markdown",
   "id": "093f6ce4-2943-46a0-a154-1c7a26a8fe5a",
   "metadata": {},
   "source": [
    "Univariate analysis is a data analysis method that focuses on a single variable at a time, revealing its distribution, central tendency, and variation. It helps identify potential outliers and gaps in the data, providing a holistic view of the data. This knowledge allows for more complex analyses and uncovering intriguing patterns. \n",
    "\n",
    "For example, using a simple dataset of exam scores, univariate analysis can be performed using Python, Pandas, and Matplotlib libraries to calculate basic statistics, create a histogram, and compute count and percentages."
   ]
  },
  {
   "cell_type": "code",
   "execution_count": 33,
   "id": "6796bd4a-509e-4c24-a50e-f0a700bca8a3",
   "metadata": {
    "tags": []
   },
   "outputs": [],
   "source": [
    "# Create a sample dataset of exam scores\n",
    "#Your code goes here\n",
    "\n",
    "# Calculate basic statistics for exam scores\n",
    "#Your code goes here\n",
    "\n",
    "# Create a histogram to visualize score distribution\n",
    "#Your code goes here\n",
    "\n",
    "# Save the histogram as an image\n",
    "#Your code goes here\n",
    "\n",
    "# Calculate count and percentages for different score ranges\n",
    "#Your code goes here\n",
    "\n",
    "# Display the results\n",
    "#Your code goes here"
   ]
  },
  {
   "cell_type": "markdown",
   "id": "d1161acb-6b9d-492f-b8ee-bd538ca9be23",
   "metadata": {},
   "source": [
    "A histogram is a graphical representation that displays the distribution of data by grouping data into intervals or bins. \n",
    "\n",
    "In this example, we used the **plt.hist()** function from the Matplotlib library to create a histogram of exam scores. The histogram shows the distribution of scores across different score ranges, allowing us to understand the concentration of scores around certain values and the overall shape of the distribution. We also calculated the count and percentages of scores falling within specific ranges using the Pandas function **pd.cut()** and **value_counts()**. \n",
    "\n",
    "The percentages of scores in each range were calculated by dividing the count for each range by the total number of scores and multiplying by 100. This helps us understand the proportion of scores falling within different score ranges, allowing us to see how much data is concentrated in specific regions and how compact the distribution is."
   ]
  },
  {
   "cell_type": "markdown",
   "id": "614fb7fb-dc2e-451d-9801-bcec9808c75a",
   "metadata": {},
   "source": [
    "## Bivariate Analysis\n",
    "Bivariate analysis is a method that examines the relationship between two variables in a dataset, identifying connections that might go unnoticed when observing them individually. It helps predict how one variable might change based on the other's behavior and uncovers potential cause-and-effect relationships. This analysis can be used to investigate the relationship between heights and weights in a dataset containing these variables."
   ]
  },
  {
   "cell_type": "code",
   "execution_count": 34,
   "id": "332ec1c7-2af1-4868-a88a-e39c436680da",
   "metadata": {
    "tags": []
   },
   "outputs": [],
   "source": [
    "# Create a sample dataset of heights and weights\n",
    "#Your code goes here\n",
    "\n",
    "# Calculate the correlation between height and weight\n",
    "#Your code goes here\n",
    "\n",
    "# Create a scatter plot to visualize the relationship\n",
    "#Your code goes here\n",
    "\n",
    "# Display the correlation coefficient\n",
    "#Your code goes here"
   ]
  }
 ],
 "metadata": {
  "kernelspec": {
   "display_name": "Python 3 (ipykernel)",
   "language": "python",
   "name": "python3"
  },
  "language_info": {
   "codemirror_mode": {
    "name": "ipython",
    "version": 3
   },
   "file_extension": ".py",
   "mimetype": "text/x-python",
   "name": "python",
   "nbconvert_exporter": "python",
   "pygments_lexer": "ipython3",
   "version": "3.11.5"
  }
 },
 "nbformat": 4,
 "nbformat_minor": 5
}
